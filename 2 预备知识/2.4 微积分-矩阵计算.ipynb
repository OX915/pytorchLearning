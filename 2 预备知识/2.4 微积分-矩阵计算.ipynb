{
 "cells": [
  {
   "cell_type": "markdown",
   "id": "15283023",
   "metadata": {},
   "source": [
    "# 2.4 微积分"
   ]
  },
  {
   "cell_type": "markdown",
   "id": "cc35f36f",
   "metadata": {},
   "source": [
    "在计算y关于x求导之前，我们需要一个地方来存储梯度\n",
    "假设相对y=2*x^T*x关于向量x求导，首先我们要创建一个变量x并为其分配一个初始值"
   ]
  },
  {
   "cell_type": "code",
   "execution_count": 2,
   "id": "91259370",
   "metadata": {},
   "outputs": [
    {
     "data": {
      "text/plain": [
       "tensor([0., 1., 2., 3.])"
      ]
     },
     "execution_count": 2,
     "metadata": {},
     "output_type": "execute_result"
    }
   ],
   "source": [
    "import torch\n",
    "x = torch.arange(4.0)\n",
    "x"
   ]
  },
  {
   "cell_type": "code",
   "execution_count": 3,
   "id": "1fd1342f",
   "metadata": {
    "scrolled": true
   },
   "outputs": [],
   "source": [
    "x.requires_grad_(True)# 等价于x=torch。arange（4.0，requires_grad=True）\n",
    "x.grad# 默认值为None"
   ]
  },
  {
   "cell_type": "markdown",
   "id": "a70103a7",
   "metadata": {},
   "source": [
    "现在计算y"
   ]
  },
  {
   "cell_type": "code",
   "execution_count": 4,
   "id": "1490cffa",
   "metadata": {},
   "outputs": [
    {
     "data": {
      "text/plain": [
       "tensor(28., grad_fn=<MulBackward0>)"
      ]
     },
     "execution_count": 4,
     "metadata": {},
     "output_type": "execute_result"
    }
   ],
   "source": [
    "y = 2*torch.dot(x,x)\n",
    "y"
   ]
  },
  {
   "cell_type": "markdown",
   "id": "0bd924cc",
   "metadata": {},
   "source": [
    "x是一个长度为4的向量，计算x和x的点积，得到了我们赋值给y的标量输出。再通过调用反向传播函数来自动计算y关于每个分量的梯度，并且打印这些梯度。"
   ]
  },
  {
   "cell_type": "code",
   "execution_count": 5,
   "id": "6be46e2f",
   "metadata": {},
   "outputs": [
    {
     "data": {
      "text/plain": [
       "tensor([ 0.,  4.,  8., 12.])"
      ]
     },
     "execution_count": 5,
     "metadata": {},
     "output_type": "execute_result"
    }
   ],
   "source": [
    "y.backward()\n",
    "x.grad"
   ]
  },
  {
   "cell_type": "markdown",
   "id": "cae9afee",
   "metadata": {},
   "source": [
    "函数y=2*x^T*x关于x的梯度应为4x，验证："
   ]
  },
  {
   "cell_type": "code",
   "execution_count": 6,
   "id": "1bd405ea",
   "metadata": {},
   "outputs": [
    {
     "data": {
      "text/plain": [
       "tensor([True, True, True, True])"
      ]
     },
     "execution_count": 6,
     "metadata": {},
     "output_type": "execute_result"
    }
   ],
   "source": [
    "x.grad==4*x"
   ]
  },
  {
   "cell_type": "markdown",
   "id": "738ee33d",
   "metadata": {},
   "source": [
    "现在计算x的另一个函数"
   ]
  },
  {
   "cell_type": "code",
   "execution_count": 7,
   "id": "162a03f2",
   "metadata": {},
   "outputs": [
    {
     "data": {
      "text/plain": [
       "tensor([1., 1., 1., 1.])"
      ]
     },
     "execution_count": 7,
     "metadata": {},
     "output_type": "execute_result"
    }
   ],
   "source": [
    "# 在默认情况下，pytorch会累计梯度，我们需要清楚之前的值\n",
    "x.grad.zero_()\n",
    "y = x.sum()\n",
    "y.backward()\n",
    "x.grad"
   ]
  },
  {
   "cell_type": "markdown",
   "id": "afc49eae",
   "metadata": {},
   "source": [
    "## 非标量变量的反向传播\n",
    "当y不是标量时，向量y关于向量x的导数的最自然解释是一个矩阵。对于高阶和高维的y和x。求导的结果可以是一个高阶张量"
   ]
  },
  {
   "cell_type": "code",
   "execution_count": 8,
   "id": "23f608d1",
   "metadata": {},
   "outputs": [
    {
     "data": {
      "text/plain": [
       "tensor([0., 2., 4., 6.])"
      ]
     },
     "execution_count": 8,
     "metadata": {},
     "output_type": "execute_result"
    }
   ],
   "source": [
    "# 对非标量调用backward需要传入一个gradient参数，该参数指定微分函数关于self的梯度。\n",
    "x.grad.zero_()\n",
    "y = x*x# 矩阵\n",
    "# 等价于y.backward(torch.ones(len(x)))\n",
    "y.sum().backward()# sum中axis默认为0\n",
    "x.grad"
   ]
  },
  {
   "cell_type": "markdown",
   "id": "c44df094",
   "metadata": {},
   "source": [
    "将某些计算移动到记录的计算图之外（之后需要再回看，按我自己的理解就是u是z的系数，其实也就是x的梯度（斜率））"
   ]
  },
  {
   "cell_type": "code",
   "execution_count": 15,
   "id": "ab5c70f0",
   "metadata": {},
   "outputs": [
    {
     "data": {
      "text/plain": [
       "tensor([True, True, True, True])"
      ]
     },
     "execution_count": 15,
     "metadata": {},
     "output_type": "execute_result"
    }
   ],
   "source": [
    "x.grad.zero_()# 梯度清零\n",
    "y = x*x\n",
    "u = y.detach()# 视作一个常数\n",
    "z = u*x\n",
    "z.sum().backward()\n",
    "x.grad == u"
   ]
  },
  {
   "cell_type": "code",
   "execution_count": 16,
   "id": "0e296067",
   "metadata": {},
   "outputs": [
    {
     "data": {
      "text/plain": [
       "tensor([True, True, True, True])"
      ]
     },
     "execution_count": 16,
     "metadata": {},
     "output_type": "execute_result"
    }
   ],
   "source": [
    "x.grad.zero_()\n",
    "y.sum().backward()# 这里仍然是y=x*x的矩阵，其实2*x就是y对x的偏导数\n",
    "x.grad == 2*x"
   ]
  },
  {
   "cell_type": "markdown",
   "id": "18665337",
   "metadata": {},
   "source": [
    "即使构建函数的计算图需要通过python控制流（条件、循环、或任意函数调用），我们仍然可以计算得到的变量的梯度"
   ]
  },
  {
   "cell_type": "code",
   "execution_count": 19,
   "id": "060f6b10",
   "metadata": {},
   "outputs": [
    {
     "data": {
      "text/plain": [
       "tensor(True)"
      ]
     },
     "execution_count": 19,
     "metadata": {},
     "output_type": "execute_result"
    }
   ],
   "source": [
    "def f(a):\n",
    "    b = a * 2\n",
    "    while b.norm() < 1000: # norm是向量元素平方和的平方根\n",
    "        b = b * 2\n",
    "    if b.sum() > 0:\n",
    "        c = b\n",
    "    else:\n",
    "        c = 100 * b\n",
    "    return c\n",
    "\n",
    "a = torch.randn(size=(),requires_grad=True)\n",
    "d = f(a)\n",
    "d.backward()\n",
    "a.grad == d / a "
   ]
  },
  {
   "cell_type": "code",
   "execution_count": null,
   "id": "ece4430a",
   "metadata": {},
   "outputs": [],
   "source": []
  }
 ],
 "metadata": {
  "kernelspec": {
   "display_name": "Python 3 (ipykernel)",
   "language": "python",
   "name": "python3"
  },
  "language_info": {
   "codemirror_mode": {
    "name": "ipython",
    "version": 3
   },
   "file_extension": ".py",
   "mimetype": "text/x-python",
   "name": "python",
   "nbconvert_exporter": "python",
   "pygments_lexer": "ipython3",
   "version": "3.10.9"
  }
 },
 "nbformat": 4,
 "nbformat_minor": 5
}
