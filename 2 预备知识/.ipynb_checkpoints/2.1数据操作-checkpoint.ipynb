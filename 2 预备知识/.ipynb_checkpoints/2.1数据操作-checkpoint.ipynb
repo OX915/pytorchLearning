{
 "cells": [
  {
   "cell_type": "markdown",
   "id": "a0fcb2f6",
   "metadata": {},
   "source": [
    "# 第二章 预备知识\n",
    "## 2.1 数据操作\n",
    "张量表示一个数值组成的数组，arange创建等差数组"
   ]
  },
  {
   "cell_type": "code",
   "execution_count": 1,
   "id": "87d7a046",
   "metadata": {},
   "outputs": [
    {
     "data": {
      "text/plain": [
       "tensor([ 0,  1,  2,  3,  4,  5,  6,  7,  8,  9, 10, 11])"
      ]
     },
     "execution_count": 1,
     "metadata": {},
     "output_type": "execute_result"
    }
   ],
   "source": [
    "import torch\n",
    "x = torch.arange(12)\n",
    "x"
   ]
  },
  {
   "cell_type": "markdown",
   "id": "0e063d19",
   "metadata": {},
   "source": [
    "用shape属性来访问张量的形状和张量中元素总数"
   ]
  },
  {
   "cell_type": "code",
   "execution_count": 2,
   "id": "284ce038",
   "metadata": {},
   "outputs": [
    {
     "data": {
      "text/plain": [
       "torch.Size([12])"
      ]
     },
     "execution_count": 2,
     "metadata": {},
     "output_type": "execute_result"
    }
   ],
   "source": [
    "x.shape"
   ]
  },
  {
   "cell_type": "code",
   "execution_count": 3,
   "id": "c2a2aaef",
   "metadata": {},
   "outputs": [
    {
     "data": {
      "text/plain": [
       "12"
      ]
     },
     "execution_count": 3,
     "metadata": {},
     "output_type": "execute_result"
    }
   ],
   "source": [
    "x.numel()"
   ]
  },
  {
   "cell_type": "code",
   "execution_count": 4,
   "id": "959037f1",
   "metadata": {},
   "outputs": [
    {
     "data": {
      "text/plain": [
       "tensor([[ 0,  1,  2,  3],\n",
       "        [ 4,  5,  6,  7],\n",
       "        [ 8,  9, 10, 11]])"
      ]
     },
     "execution_count": 4,
     "metadata": {},
     "output_type": "execute_result"
    }
   ],
   "source": [
    "X = x.reshape(3,4)\n",
    "X"
   ]
  },
  {
   "cell_type": "markdown",
   "id": "9821c3c6",
   "metadata": {},
   "source": [
    "使用全0、全1、或者其他常量或从特定分布中随机采样的数字,这里((2,3,4))表示三维数组，三维是2，二维是3，一维是4"
   ]
  },
  {
   "cell_type": "code",
   "execution_count": 5,
   "id": "c0fcd829",
   "metadata": {},
   "outputs": [
    {
     "data": {
      "text/plain": [
       "tensor([[[0., 0., 0., 0.],\n",
       "         [0., 0., 0., 0.],\n",
       "         [0., 0., 0., 0.]],\n",
       "\n",
       "        [[0., 0., 0., 0.],\n",
       "         [0., 0., 0., 0.],\n",
       "         [0., 0., 0., 0.]]])"
      ]
     },
     "execution_count": 5,
     "metadata": {},
     "output_type": "execute_result"
    }
   ],
   "source": [
    "torch.zeros((2,3,4))"
   ]
  },
  {
   "cell_type": "code",
   "execution_count": 6,
   "id": "fa9c249f",
   "metadata": {},
   "outputs": [
    {
     "data": {
      "text/plain": [
       "tensor([[[1., 1., 1., 1.],\n",
       "         [1., 1., 1., 1.],\n",
       "         [1., 1., 1., 1.]],\n",
       "\n",
       "        [[1., 1., 1., 1.],\n",
       "         [1., 1., 1., 1.],\n",
       "         [1., 1., 1., 1.]]])"
      ]
     },
     "execution_count": 6,
     "metadata": {},
     "output_type": "execute_result"
    }
   ],
   "source": [
    "torch.ones((2,3,4))"
   ]
  },
  {
   "cell_type": "markdown",
   "id": "2303bcd7",
   "metadata": {},
   "source": [
    "通过提供包含的数值的python列表来为所需张量中的每个元素赋予确定的值（二维数组）"
   ]
  },
  {
   "cell_type": "code",
   "execution_count": 9,
   "id": "0e190179",
   "metadata": {},
   "outputs": [
    {
     "data": {
      "text/plain": [
       "tensor([[2, 1, 3, 4],\n",
       "        [1, 2, 3, 4],\n",
       "        [4, 3, 2, 1]])"
      ]
     },
     "execution_count": 9,
     "metadata": {},
     "output_type": "execute_result"
    }
   ],
   "source": [
    "torch.tensor([[2,1,3,4],[1,2,3,4],[4,3,2,1]])"
   ]
  },
  {
   "cell_type": "markdown",
   "id": "c478a942",
   "metadata": {},
   "source": [
    "打印shape是一个三维的数组"
   ]
  },
  {
   "cell_type": "code",
   "execution_count": 12,
   "id": "8a3880bc",
   "metadata": {},
   "outputs": [
    {
     "data": {
      "text/plain": [
       "torch.Size([1, 3, 4])"
      ]
     },
     "execution_count": 12,
     "metadata": {},
     "output_type": "execute_result"
    }
   ],
   "source": [
    "torch.tensor([[[2,1,3,4],[1,2,3,4],[4,3,2,1]]]).shape"
   ]
  },
  {
   "cell_type": "markdown",
   "id": "0522427c",
   "metadata": {},
   "source": [
    "常见的标准算数运算+ - * / ** （都是按元素分别进行计算）"
   ]
  },
  {
   "cell_type": "code",
   "execution_count": 14,
   "id": "93007438",
   "metadata": {},
   "outputs": [
    {
     "data": {
      "text/plain": [
       "(tensor([ 3.,  4.,  6., 10.]),\n",
       " tensor([-1.,  0.,  2.,  6.]),\n",
       " tensor([ 2.,  4.,  8., 16.]),\n",
       " tensor([0.5000, 1.0000, 2.0000, 4.0000]),\n",
       " tensor([ 1.,  4., 16., 64.]))"
      ]
     },
     "execution_count": 14,
     "metadata": {},
     "output_type": "execute_result"
    }
   ],
   "source": [
    "x = torch.tensor([1.0,2,4,8])\n",
    "y = torch.tensor([2,2,2,2])\n",
    "x+y,x-y,x*y,x/y,x**y # x**y进行的是求幂的运算 x的y次幂"
   ]
  },
  {
   "cell_type": "markdown",
   "id": "528756a9",
   "metadata": {},
   "source": [
    "按元素，每个元素子元素进行运算，以下是求e的x次方，表示方法，因为e的2次方=7.3891，说一7.3891e+00的意思就是7.3891*10的0次方。"
   ]
  },
  {
   "cell_type": "code",
   "execution_count": 15,
   "id": "787a0eca",
   "metadata": {},
   "outputs": [
    {
     "data": {
      "text/plain": [
       "tensor([2.7183e+00, 7.3891e+00, 5.4598e+01, 2.9810e+03])"
      ]
     },
     "execution_count": 15,
     "metadata": {},
     "output_type": "execute_result"
    }
   ],
   "source": [
    "torch.exp(x)"
   ]
  },
  {
   "cell_type": "markdown",
   "id": "571f97f3",
   "metadata": {},
   "source": [
    "把多个张量结合到一起，dim=0是按行堆在一起，dim=1是按列堆在一起\n",
    "dim的取值范围由输入张量的维度决定，输入为n维张量，dim取值在[0,n-1]，dim=0时是在最高维度进行拼接，dim=1是在次最高维度进行拼接。\n",
    "\n",
    "cat中din的学习链接：https://blog.csdn.net/m0_60105894/article/details/128311630"
   ]
  },
  {
   "cell_type": "code",
   "execution_count": 26,
   "id": "57a1eaf0",
   "metadata": {},
   "outputs": [
    {
     "data": {
      "text/plain": [
       "(tensor([[ 0.,  1.,  2.,  3.],\n",
       "         [ 4.,  5.,  6.,  7.],\n",
       "         [ 8.,  9., 10., 11.],\n",
       "         [ 2.,  1.,  4.,  3.],\n",
       "         [ 1.,  2.,  3.,  4.],\n",
       "         [ 4.,  3.,  2.,  1.]]),\n",
       " tensor([[ 0.,  1.,  2.,  3.,  2.,  1.,  4.,  3.],\n",
       "         [ 4.,  5.,  6.,  7.,  1.,  2.,  3.,  4.],\n",
       "         [ 8.,  9., 10., 11.,  4.,  3.,  2.,  1.]]))"
      ]
     },
     "execution_count": 26,
     "metadata": {},
     "output_type": "execute_result"
    }
   ],
   "source": [
    "X = torch.arange(12,dtype=torch.float32).reshape(3,4) # X是3行4列二维数组\n",
    "Y = torch.tensor([[2,1,4,3],[1,2,3,4],[4,3,2,1]])\n",
    "torch.cat((X,Y),dim=0),torch.cat((X,Y),dim=1)"
   ]
  },
  {
   "cell_type": "markdown",
   "id": "89bbb951",
   "metadata": {},
   "source": [
    "即使形状不同，我们仍然可以通过调用广播机制来执行按元素的操作"
   ]
  },
  {
   "cell_type": "code",
   "execution_count": 27,
   "id": "5b899508",
   "metadata": {},
   "outputs": [
    {
     "data": {
      "text/plain": [
       "(tensor([[0],\n",
       "         [1],\n",
       "         [2]]),\n",
       " tensor([[0, 1]]))"
      ]
     },
     "execution_count": 27,
     "metadata": {},
     "output_type": "execute_result"
    }
   ],
   "source": [
    "a = torch.arange(3).reshape([3,1])\n",
    "b = torch.arange(2).reshape([1,2])\n",
    "a,b"
   ]
  },
  {
   "cell_type": "markdown",
   "id": "afce2f30",
   "metadata": {},
   "source": [
    "a+b是默认将两个矩阵都扩展成3*2的矩阵\n",
    "a=[[0,0],[1,1],[2,2]]  b=[[0,1],[0,1],[0,1]]"
   ]
  },
  {
   "cell_type": "code",
   "execution_count": 28,
   "id": "93c4a594",
   "metadata": {},
   "outputs": [
    {
     "data": {
      "text/plain": [
       "tensor([[0, 1],\n",
       "        [1, 2],\n",
       "        [2, 3]])"
      ]
     },
     "execution_count": 28,
     "metadata": {},
     "output_type": "execute_result"
    }
   ],
   "source": [
    "a+b"
   ]
  },
  {
   "cell_type": "markdown",
   "id": "7ecd5454",
   "metadata": {},
   "source": [
    "可以用[-1]选择最后一个元素，用[1:3]选择第二和第三个元素"
   ]
  },
  {
   "cell_type": "code",
   "execution_count": 33,
   "id": "c2f69615",
   "metadata": {},
   "outputs": [
    {
     "data": {
      "text/plain": [
       "(tensor([ 8.,  9., 10., 11.]),\n",
       " tensor([[ 4.,  5., 91.,  7.],\n",
       "         [ 8.,  9., 10., 11.]]))"
      ]
     },
     "execution_count": 33,
     "metadata": {},
     "output_type": "execute_result"
    }
   ],
   "source": [
    "X[-1],X[1:3]"
   ]
  },
  {
   "cell_type": "markdown",
   "id": "66dec3f2",
   "metadata": {},
   "source": [
    "可以通过指定索引将元素写入矩阵"
   ]
  },
  {
   "cell_type": "code",
   "execution_count": 30,
   "id": "d90f14f5",
   "metadata": {},
   "outputs": [
    {
     "data": {
      "text/plain": [
       "tensor([[ 0.,  1.,  2.,  3.],\n",
       "        [ 4.,  5., 91.,  7.],\n",
       "        [ 8.,  9., 10., 11.]])"
      ]
     },
     "execution_count": 30,
     "metadata": {},
     "output_type": "execute_result"
    }
   ],
   "source": [
    "X[1,2] = 91# 将第1行第2列的值改成91\n",
    "X"
   ]
  },
  {
   "cell_type": "markdown",
   "id": "2644a444",
   "metadata": {},
   "source": [
    "运行一些操作可能导致为新结果分配内存"
   ]
  },
  {
   "cell_type": "code",
   "execution_count": 37,
   "id": "6ce74b17",
   "metadata": {},
   "outputs": [
    {
     "data": {
      "text/plain": [
       "False"
      ]
     },
     "execution_count": 37,
     "metadata": {},
     "output_type": "execute_result"
    }
   ],
   "source": [
    "before = id(Y)\n",
    "Y = Y + X\n",
    "id(Y) == before"
   ]
  },
  {
   "cell_type": "markdown",
   "id": "18b5a5f2",
   "metadata": {},
   "source": [
    "执行原地操作"
   ]
  },
  {
   "cell_type": "code",
   "execution_count": 40,
   "id": "529c0a78",
   "metadata": {},
   "outputs": [
    {
     "name": "stdout",
     "output_type": "stream",
     "text": [
      "id(Z): 2922724803104\n",
      "id(Z): 2922724803104\n"
     ]
    }
   ],
   "source": [
    "Z = torch.zeros_like(Y)\n",
    "print('id(Z):',id(Z))\n",
    "Z[:] = X + Y# 对z进行改写，仍在原来内存处\n",
    "print('id(Z):',id(Z))"
   ]
  },
  {
   "cell_type": "markdown",
   "id": "4afc5fe4",
   "metadata": {},
   "source": [
    "如果在后续计算中没有重复使用X，我们也可以使用X[:] = X+Y 或 X += Y来减少操作的内存开销"
   ]
  },
  {
   "cell_type": "code",
   "execution_count": 41,
   "id": "053f6b4c",
   "metadata": {},
   "outputs": [
    {
     "data": {
      "text/plain": [
       "True"
      ]
     },
     "execution_count": 41,
     "metadata": {},
     "output_type": "execute_result"
    }
   ],
   "source": [
    "before = id(X)\n",
    "X += Y\n",
    "id(X) == before"
   ]
  },
  {
   "cell_type": "markdown",
   "id": "e2beab12",
   "metadata": {},
   "source": [
    "转换为Numpy张量"
   ]
  },
  {
   "cell_type": "code",
   "execution_count": 42,
   "id": "cac8a8d1",
   "metadata": {},
   "outputs": [
    {
     "data": {
      "text/plain": [
       "(numpy.ndarray, torch.Tensor)"
      ]
     },
     "execution_count": 42,
     "metadata": {},
     "output_type": "execute_result"
    }
   ],
   "source": [
    "A = X.numpy()\n",
    "B = torch.tensor(A)\n",
    "type(A),type(B)"
   ]
  },
  {
   "cell_type": "markdown",
   "id": "f126216d",
   "metadata": {},
   "source": [
    "将大小为1的张量转换为python标量,用.item()"
   ]
  },
  {
   "cell_type": "code",
   "execution_count": 46,
   "id": "bc678e03",
   "metadata": {},
   "outputs": [
    {
     "data": {
      "text/plain": [
       "(tensor([3.5000]), 3.5, 3.5, 3)"
      ]
     },
     "execution_count": 46,
     "metadata": {},
     "output_type": "execute_result"
    }
   ],
   "source": [
    "a = torch.tensor([3.5])\n",
    "a, a.item(), float(a), int(a)"
   ]
  },
  {
   "cell_type": "code",
   "execution_count": null,
   "id": "c923cd85",
   "metadata": {},
   "outputs": [],
   "source": []
  }
 ],
 "metadata": {
  "kernelspec": {
   "display_name": "Python 3 (ipykernel)",
   "language": "python",
   "name": "python3"
  },
  "language_info": {
   "codemirror_mode": {
    "name": "ipython",
    "version": 3
   },
   "file_extension": ".py",
   "mimetype": "text/x-python",
   "name": "python",
   "nbconvert_exporter": "python",
   "pygments_lexer": "ipython3",
   "version": "3.10.9"
  }
 },
 "nbformat": 4,
 "nbformat_minor": 5
}
