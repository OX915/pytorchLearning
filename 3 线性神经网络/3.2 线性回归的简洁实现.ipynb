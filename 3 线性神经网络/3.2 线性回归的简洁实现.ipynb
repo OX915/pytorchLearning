{
 "cells": [
  {
   "cell_type": "markdown",
   "id": "d4e0a1e7",
   "metadata": {},
   "source": [
    "# 线性回归的简洁实现\n",
    "通过使用深度学习框架来简洁地实现线性回归模型生成数据集"
   ]
  },
  {
   "cell_type": "markdown",
   "id": "c49dfb50",
   "metadata": {},
   "source": [
    "调用框架中的现有的API来读取数据"
   ]
  },
  {
   "cell_type": "code",
   "execution_count": 17,
   "id": "ada0bc2f",
   "metadata": {},
   "outputs": [
    {
     "data": {
      "text/plain": [
       "[tensor([[ 0.8174,  0.1543],\n",
       "         [-0.5346,  1.5374],\n",
       "         [-0.4833,  1.4841],\n",
       "         [ 0.4453, -1.2959],\n",
       "         [-0.1401,  0.2579],\n",
       "         [-1.0358,  0.5452],\n",
       "         [ 1.5623, -0.1032],\n",
       "         [ 0.4551,  0.6332],\n",
       "         [ 0.6588,  1.6518],\n",
       "         [-0.5908,  1.4635]]),\n",
       " tensor([[ 5.3098],\n",
       "         [-2.1056],\n",
       "         [-1.8171],\n",
       "         [ 9.4936],\n",
       "         [ 3.0471],\n",
       "         [ 0.2642],\n",
       "         [ 7.6823],\n",
       "         [ 2.9713],\n",
       "         [-0.0998],\n",
       "         [-1.9635]])]"
      ]
     },
     "execution_count": 17,
     "metadata": {},
     "output_type": "execute_result"
    }
   ],
   "source": [
    "import numpy as np\n",
    "import torch\n",
    "from torch.utils import data\n",
    "from d2l import torch as d2l\n",
    "true_w = torch.tensor([2,-3.4])\n",
    "true_b = 4.2\n",
    "features,labels = d2l.synthetic_data(true_w,true_b,1000)\n",
    "def load_array(data_arrays,batch_size,is_train=True):\n",
    "    \"\"\"构造一个pytorch数据迭代器\"\"\"\n",
    "    dataset = data.TensorDataset(*data_arrays)\n",
    "    return data.DataLoader(dataset,batch_size,shuffle=is_train)\n",
    "batch_size = 10 \n",
    "data_iter = load_array((features,labels),batch_size)\n",
    "next(iter(data_iter))"
   ]
  },
  {
   "cell_type": "markdown",
   "id": "b7a1393d",
   "metadata": {},
   "source": [
    "使用框架的预定义好的层"
   ]
  },
  {
   "cell_type": "code",
   "execution_count": 18,
   "id": "50fe4d54",
   "metadata": {},
   "outputs": [],
   "source": [
    "# 'nn'是神经网络的缩写\n",
    "from torch import nn\n",
    "net = nn.Sequential(nn.Linear(2,1))# 这里输入维度为2，输出维度是1"
   ]
  },
  {
   "cell_type": "markdown",
   "id": "630fa339",
   "metadata": {},
   "source": [
    "初始化模型参数"
   ]
  },
  {
   "cell_type": "code",
   "execution_count": 19,
   "id": "b1e7df98",
   "metadata": {},
   "outputs": [
    {
     "data": {
      "text/plain": [
       "tensor([0.])"
      ]
     },
     "execution_count": 19,
     "metadata": {},
     "output_type": "execute_result"
    }
   ],
   "source": [
    "net[0].weight.data.normal_(0,0.01)\n",
    "net[0].bias.data.fill_(0)"
   ]
  },
  {
   "cell_type": "markdown",
   "id": "16af62c0",
   "metadata": {},
   "source": [
    "计算均方误差使用的是MSELoss类，也成为平方范数"
   ]
  },
  {
   "cell_type": "code",
   "execution_count": 20,
   "id": "3a7a05a5",
   "metadata": {},
   "outputs": [],
   "source": [
    "loss = nn.MSELoss()"
   ]
  },
  {
   "cell_type": "markdown",
   "id": "66e48ada",
   "metadata": {},
   "source": [
    "实例化SGD实例"
   ]
  },
  {
   "cell_type": "code",
   "execution_count": 21,
   "id": "48c4e74c",
   "metadata": {},
   "outputs": [],
   "source": [
    "trainer = torch.optim.SGD(net.parameters(),lr=0.03)"
   ]
  },
  {
   "cell_type": "markdown",
   "id": "bfa7e73e",
   "metadata": {},
   "source": [
    "训练过程代码与我们从0开始实现时所作的非常相似"
   ]
  },
  {
   "cell_type": "code",
   "execution_count": 23,
   "id": "3398f39e",
   "metadata": {},
   "outputs": [
    {
     "name": "stdout",
     "output_type": "stream",
     "text": [
      "epoch 1, loss 0.000109\n",
      "epoch 2, loss 0.000109\n",
      "epoch 3, loss 0.000108\n"
     ]
    }
   ],
   "source": [
    "num_epochs = 3\n",
    "for epoch in range(num_epochs):\n",
    "    for X,y in data_iter:\n",
    "        l = loss(net(X),y)\n",
    "        trainer.zero_grad()\n",
    "        l.backward()\n",
    "        trainer.step()\n",
    "    l = loss(net(features),labels)\n",
    "    print(f'epoch {epoch+1}, loss {l:f}')"
   ]
  },
  {
   "cell_type": "code",
   "execution_count": 24,
   "id": "91643f4d",
   "metadata": {},
   "outputs": [
    {
     "name": "stdout",
     "output_type": "stream",
     "text": [
      "w的估计误差： tensor([-0.0005, -0.0003])\n",
      "b的估计误差： tensor([0.0003])\n"
     ]
    }
   ],
   "source": [
    "w = net[0].weight.data\n",
    "print('w的估计误差：', true_w - w.reshape(true_w.shape))\n",
    "b = net[0].bias.data\n",
    "print('b的估计误差：', true_b - b)"
   ]
  },
  {
   "cell_type": "code",
   "execution_count": null,
   "id": "e5fda4f6",
   "metadata": {},
   "outputs": [],
   "source": []
  },
  {
   "cell_type": "code",
   "execution_count": null,
   "id": "4d0bc6fc",
   "metadata": {},
   "outputs": [],
   "source": []
  }
 ],
 "metadata": {
  "kernelspec": {
   "display_name": "Python 3 (ipykernel)",
   "language": "python",
   "name": "python3"
  },
  "language_info": {
   "codemirror_mode": {
    "name": "ipython",
    "version": 3
   },
   "file_extension": ".py",
   "mimetype": "text/x-python",
   "name": "python",
   "nbconvert_exporter": "python",
   "pygments_lexer": "ipython3",
   "version": "3.10.9"
  }
 },
 "nbformat": 4,
 "nbformat_minor": 5
}
