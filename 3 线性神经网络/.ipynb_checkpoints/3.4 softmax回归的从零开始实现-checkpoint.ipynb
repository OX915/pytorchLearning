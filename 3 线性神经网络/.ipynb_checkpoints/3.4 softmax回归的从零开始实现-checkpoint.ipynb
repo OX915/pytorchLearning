{
 "cells": [
  {
   "cell_type": "markdown",
   "id": "6b38fb95",
   "metadata": {},
   "source": [
    "就像我们从零开始实现线性回归一样，你应该知道实现softmax的细节"
   ]
  },
  {
   "cell_type": "code",
   "execution_count": 7,
   "id": "a0e1992f",
   "metadata": {},
   "outputs": [],
   "source": [
    "import torch\n",
    "from IPython import display\n",
    "from d2l import torch as d2l\n",
    "batch_size = 256\n",
    "train_iter,test_iter = d2l.load_data_fashion_mnist(batch_size)"
   ]
  },
  {
   "cell_type": "markdown",
   "id": "4a69dc75",
   "metadata": {},
   "source": [
    "将展平每个图像，将他们视为长度为784的向量，因为我们的数据集有10个类别，所以网络输出维度为10"
   ]
  },
  {
   "cell_type": "code",
   "execution_count": 10,
   "id": "de03731b",
   "metadata": {},
   "outputs": [],
   "source": [
    "num_inputs = 784\n",
    "num_outputs = 10\n",
    "# normal第一个参数是平均值，第二个参数是算数平方根（标准差）\n",
    "W = torch.normal(0,0.01,size=(num_inputs,num_outputs),requires_grad=True)\n",
    "b = torch.zeros(num_outputs,requires_grad=True)"
   ]
  },
  {
   "cell_type": "code",
   "execution_count": 11,
   "id": "ebf65ca2",
   "metadata": {},
   "outputs": [
    {
     "data": {
      "text/plain": [
       "(tensor([[5., 7., 9.]]),\n",
       " tensor([[ 6.],\n",
       "         [15.]]))"
      ]
     },
     "execution_count": 11,
     "metadata": {},
     "output_type": "execute_result"
    }
   ],
   "source": [
    "X = torch.tensor([[1.0,2.0,3.0],[4.0,5.0,6.0]])\n",
    "X.sum(0,keepdim=True),X.sum(1,keepdim=True)"
   ]
  },
  {
   "cell_type": "markdown",
   "id": "062538dc",
   "metadata": {},
   "source": [
    "softmax函数={expX}/{求和expX}"
   ]
  },
  {
   "cell_type": "code",
   "execution_count": 13,
   "id": "f355c1c0",
   "metadata": {},
   "outputs": [],
   "source": [
    "def softmax(X):\n",
    "    X_exp = torch.exp(X)# 对每个元素进行指数计算\n",
    "    partition = X_exp.sum(1,keepdim=True)\n",
    "    return X_exp / partition # 这里使用了广播机制"
   ]
  },
  {
   "cell_type": "code",
   "execution_count": null,
   "id": "58fbc72a",
   "metadata": {},
   "outputs": [],
   "source": []
  },
  {
   "cell_type": "code",
   "execution_count": null,
   "id": "e7d038f0",
   "metadata": {},
   "outputs": [],
   "source": []
  },
  {
   "cell_type": "code",
   "execution_count": null,
   "id": "ec5b17d6",
   "metadata": {},
   "outputs": [],
   "source": []
  }
 ],
 "metadata": {
  "kernelspec": {
   "display_name": "Python 3 (ipykernel)",
   "language": "python",
   "name": "python3"
  },
  "language_info": {
   "codemirror_mode": {
    "name": "ipython",
    "version": 3
   },
   "file_extension": ".py",
   "mimetype": "text/x-python",
   "name": "python",
   "nbconvert_exporter": "python",
   "pygments_lexer": "ipython3",
   "version": "3.10.9"
  }
 },
 "nbformat": 4,
 "nbformat_minor": 5
}
